{
  "nbformat": 4,
  "nbformat_minor": 0,
  "metadata": {
    "colab": {
      "private_outputs": true,
      "provenance": [],
      "authorship_tag": "ABX9TyMnl34Xe2MmT22H7eD9m8E8",
      "include_colab_link": true
    },
    "kernelspec": {
      "name": "python3",
      "display_name": "Python 3"
    },
    "language_info": {
      "name": "python"
    }
  },
  "cells": [
    {
      "cell_type": "markdown",
      "metadata": {
        "id": "view-in-github",
        "colab_type": "text"
      },
      "source": [
        "<a href=\"https://colab.research.google.com/github/nallagondu/datatrained_inter_public/blob/main/Loan_Application_Status_Prediction_Second_phase_Project3.ipynb\" target=\"_parent\"><img src=\"https://colab.research.google.com/assets/colab-badge.svg\" alt=\"Open In Colab\"/></a>"
      ]
    },
    {
      "cell_type": "markdown",
      "source": [
        "**Loan Application Status Prediction**\n",
        "\n",
        "\n",
        "**Project Description**\n",
        "\n",
        "This dataset includes details of applicants who have applied for loan. The dataset includes details like credit history, loan amount, their income, dependents etc.\n",
        "**Independent Variables:**\n",
        "1.\tLoan_ID - This refer to the unique identifier of the applicant's affirmed purchases\n",
        "2.\tGender - This refers to either of the two main categories (male and female) into which applicants are divided on the basis of their reproductive functions\n",
        "3.\tMarried - This refers to applicant being in a state of matrimony\n",
        "4.\tDependents - This refres to persons who depends on the applicants for survival\n",
        "5.\tEducation - This refers to number of years in which applicant received systematic instruction, especially at a school or university\n",
        "6.\tSelf_Employed - This refers to applicant working for oneself as a freelancer or the owner of a business rather than for an employer\n",
        "7.\tApplicant Income - This refers to disposable income available for the applicant's use under State law.\n",
        "8.\tCoapplicantIncome - This refers to disposable income available for the people that participate in the loan application process alongside the main applicant use under State law.\n",
        "9.\tLoan_Amount - This refers to the amount of money an applicant owe at any given time.\n",
        "10.\tLoan_Amount_Term - This refers to the duaration in which the loan is availed to the applicant\n",
        "11.\tCredit History - This refers to a record of applicant's ability to repay debts and demonstrated responsibility in repaying them.\n",
        "12.\tProperty_Area - This refers to the total area within the boundaries of the property as set out in Schedule.\n",
        "13.\tLoan_Status - This refres to whether applicant is eligible to be availed the Loan requested.\n",
        "\n",
        "\n",
        "You have to build a model that can predict whether the loan of the applicant will be approved(Loan_status) or not on the basis of the details provided in the dataset.\n",
        "\n"
      ],
      "metadata": {
        "id": "so5XrbAOPXba"
      }
    },
    {
      "cell_type": "markdown",
      "source": [
        "**Dataset Link-**  \n",
        "•\thttps://github.com/FlipRoboTechnologies/ML_-Datasets/blob/main/Loan%20Application%20Status/loan_prediction.csv\n"
      ],
      "metadata": {
        "id": "A8znxelbPrBs"
      }
    },
    {
      "cell_type": "code",
      "source": [
        "import pandas as pd\n",
        "import numpy as np\n",
        "import matplotlib.pyplot as plt\n",
        "import seaborn as sns\n",
        "import warnings\n",
        "warnings.filterwarnings('ignore')"
      ],
      "metadata": {
        "id": "1_hWneOCQPWm"
      },
      "execution_count": null,
      "outputs": []
    },
    {
      "cell_type": "code",
      "source": [
        "#Data loading\n",
        "Loan_application_data_url = 'https://raw.githubusercontent.com/FlipRoboTechnologies/ML_-Datasets/main/Loan%20Application%20Status/loan_prediction.csv'\n",
        "loanapp_df = pd.read_csv(Loan_application_data_url,header=None)\n",
        "loanapp_df.head()"
      ],
      "metadata": {
        "id": "9M5m2YpU_qZe"
      },
      "execution_count": null,
      "outputs": []
    },
    {
      "cell_type": "code",
      "source": [
        "loanapp_df.shape"
      ],
      "metadata": {
        "id": "Q7fpcCs6SUth"
      },
      "execution_count": null,
      "outputs": []
    },
    {
      "cell_type": "markdown",
      "source": [
        "We can see there is no index available for the dataset ,need to update it."
      ],
      "metadata": {
        "id": "dtEn97SdCmul"
      }
    },
    {
      "cell_type": "code",
      "source": [
        "#\n",
        "new_headers  = ['Loan_ID','Gender','Married','Dependents','Education','Self_Employed','ApplicantIncome','CoapplicantIncome','LoanAmount','Loan_Amount_Term','Credit_History','Property_Area','Loan_Status']\n",
        "loanapp_df.columns = new_headers\n",
        "#loanapp_df.set_index('Loan_ID',inplace=True)\n",
        "loanapp_df.head()"
      ],
      "metadata": {
        "id": "9Ltt6eQ4DojD"
      },
      "execution_count": null,
      "outputs": []
    },
    {
      "cell_type": "code",
      "source": [
        "loanapp_df.info()"
      ],
      "metadata": {
        "id": "Vnf8FIVlAMH8"
      },
      "execution_count": null,
      "outputs": []
    },
    {
      "cell_type": "code",
      "source": [
        "loanapp_df.shape"
      ],
      "metadata": {
        "id": "FhxP16gIAYXW"
      },
      "execution_count": null,
      "outputs": []
    },
    {
      "cell_type": "code",
      "source": [
        "loanapp_df.dtypes"
      ],
      "metadata": {
        "id": "5rQgj7T9Ab0J"
      },
      "execution_count": null,
      "outputs": []
    },
    {
      "cell_type": "code",
      "source": [
        "loanapp_df.describe()"
      ],
      "metadata": {
        "id": "E1vWksfR_0MM"
      },
      "execution_count": null,
      "outputs": []
    },
    {
      "cell_type": "markdown",
      "source": [
        "We can see some data missied ,have to work on it"
      ],
      "metadata": {
        "id": "kRQeXu0L_8xM"
      }
    },
    {
      "cell_type": "code",
      "source": [
        "loanapp_df.isnull().sum()"
      ],
      "metadata": {
        "id": "9LqF25Gg_7dr"
      },
      "execution_count": null,
      "outputs": []
    },
    {
      "cell_type": "markdown",
      "source": [
        "we can see some missing values in below data :\n",
        "\n",
        "Loan_ID               0\n",
        "Gender               13\n",
        "Married               3\n",
        "Dependents           15\n",
        "Education             0\n",
        "Self_Employed        32\n",
        "ApplicantIncome       0\n",
        "CoapplicantIncome     0\n",
        "LoanAmount           22\n",
        "Loan_Amount_Term     14\n",
        "Credit_History       50\n",
        "Property_Area         0\n",
        "Loan_Status           0\n",
        "dtype: int64"
      ],
      "metadata": {
        "id": "5Av_6OeqAOiE"
      }
    },
    {
      "cell_type": "code",
      "source": [
        "loanapp_df.isnull().sum()/len(loanapp_df)*100"
      ],
      "metadata": {
        "id": "kz5DkEoZAXO6"
      },
      "execution_count": null,
      "outputs": []
    },
    {
      "cell_type": "code",
      "source": [
        "loanapp_df.duplicated().sum()"
      ],
      "metadata": {
        "id": "J01EmAkFAiR4"
      },
      "execution_count": null,
      "outputs": []
    },
    {
      "cell_type": "code",
      "source": [
        "loanapp_df.nunique()"
      ],
      "metadata": {
        "id": "dsf10tpRAnE6"
      },
      "execution_count": null,
      "outputs": []
    },
    {
      "cell_type": "code",
      "source": [
        "#data Cleaning Process\n",
        "loanapp_df.isna().sum()"
      ],
      "metadata": {
        "id": "h1ioGvmnBKAu"
      },
      "execution_count": null,
      "outputs": []
    },
    {
      "cell_type": "code",
      "source": [
        "loanapp_df.Gender.value_counts()"
      ],
      "metadata": {
        "id": "XmYX0wi6BfWt"
      },
      "execution_count": null,
      "outputs": []
    },
    {
      "cell_type": "code",
      "source": [
        "loanapp_df.Married.value_counts()"
      ],
      "metadata": {
        "id": "AfW9PTBGBuZF"
      },
      "execution_count": null,
      "outputs": []
    },
    {
      "cell_type": "code",
      "source": [
        "#I'm using  mode imputation since these are likely categorical vaiables.\n",
        "#Gender, Married, Dependents,  Self_Employed, Credit_History\n",
        "\n",
        "colums_mode_filln = ['Gender','Married','Dependents','Self_Employed','Credit_History']\n",
        "for i in colums_mode_filln:\n",
        "  loanapp_df[i].fillna(loanapp_df[i].mode()[0],inplace=True)\n"
      ],
      "metadata": {
        "id": "9XerIWRhJg44"
      },
      "execution_count": null,
      "outputs": []
    },
    {
      "cell_type": "code",
      "source": [
        "loanapp_df.isna().sum()"
      ],
      "metadata": {
        "id": "PTbLqueSLlO_"
      },
      "execution_count": null,
      "outputs": []
    },
    {
      "cell_type": "code",
      "source": [
        "# for Loan amount and Loan amount terms I'm going to use mean imputation method .\n",
        "\n",
        "colums_mean_filln = ['LoanAmount','Loan_Amount_Term']\n",
        "for i in colums_mean_filln:\n",
        "  loanapp_df[i].fillna(loanapp_df[i].mean(),inplace=True)\n",
        ""
      ],
      "metadata": {
        "id": "06DxUbudB4Ry"
      },
      "execution_count": null,
      "outputs": []
    },
    {
      "cell_type": "code",
      "source": [
        "loanapp_df.isna().sum()"
      ],
      "metadata": {
        "id": "XRzpx-_5MnVx"
      },
      "execution_count": null,
      "outputs": []
    },
    {
      "cell_type": "code",
      "source": [
        "loanapp_df.describe()"
      ],
      "metadata": {
        "id": "nFZz4V8TM7Pw"
      },
      "execution_count": null,
      "outputs": []
    },
    {
      "cell_type": "markdown",
      "source": [
        "**Working for EDA**"
      ],
      "metadata": {
        "id": "VpVV67PeNfGz"
      }
    },
    {
      "cell_type": "code",
      "source": [
        "plt.figure(figsize=(10,5))\n",
        "sns.countplot(x='Loan_Status',data=loanapp_df)\n",
        "plt.title('Loan Status')\n",
        "plt.show()\n"
      ],
      "metadata": {
        "id": "MGv29GamNdMr"
      },
      "execution_count": null,
      "outputs": []
    },
    {
      "cell_type": "markdown",
      "source": [
        "##Histgram"
      ],
      "metadata": {
        "id": "DLBA4AypQ5Bl"
      }
    },
    {
      "cell_type": "code",
      "source": [
        "\n",
        "loanapp_df.hist(figsize=(15,10))\n",
        "plt.show()"
      ],
      "metadata": {
        "id": "2zYDJwBuQEb8"
      },
      "execution_count": null,
      "outputs": []
    },
    {
      "cell_type": "code",
      "source": [
        "loanapp_df.head()"
      ],
      "metadata": {
        "id": "EglpwIyoTOZN"
      },
      "execution_count": null,
      "outputs": []
    },
    {
      "cell_type": "code",
      "source": [
        "plt.figure(figsize=(10,5))\n",
        "sns.histplot(x='LoanAmount',y = 'ApplicantIncome', data=loanapp_df,kde = True)\n",
        "plt.title('LoanAmount\t')\n",
        "plt.show()"
      ],
      "metadata": {
        "id": "SL4umdkpQT9M"
      },
      "execution_count": null,
      "outputs": []
    },
    {
      "cell_type": "code",
      "source": [
        "#using scatterplot\n",
        "\n",
        "plt.figure(figsize=(10,5))\n",
        "sns.scatterplot(x='LoanAmount',y = 'ApplicantIncome', data=loanapp_df)\n",
        "plt.title('LoanAmount\t')\n",
        "plt.show()"
      ],
      "metadata": {
        "id": "M_z9d4VES0Yh"
      },
      "execution_count": null,
      "outputs": []
    },
    {
      "cell_type": "code",
      "source": [
        "\n",
        "plt.figure(figsize=(10,5))\n",
        "sns.scatterplot(y='LoanAmount',x = 'ApplicantIncome', data=loanapp_df)\n",
        "plt.title('LoanAmount\t')\n",
        "plt.show()"
      ],
      "metadata": {
        "id": "G7EWUm-_TA0y"
      },
      "execution_count": null,
      "outputs": []
    },
    {
      "cell_type": "code",
      "source": [
        "plt.figure(figsize=(10, 6))\n",
        "sns.histplot(loanapp_df['LoanAmount'], kde=True)\n",
        "plt.title('Distribution of Loan Amount')\n",
        "plt.show()"
      ],
      "metadata": {
        "id": "1VpXhvmYQrxs"
      },
      "execution_count": null,
      "outputs": []
    },
    {
      "cell_type": "code",
      "source": [
        "loanapp_df.dtypes"
      ],
      "metadata": {
        "id": "TuP3kx-YTm-T"
      },
      "execution_count": null,
      "outputs": []
    },
    {
      "cell_type": "code",
      "source": [
        "# to check the loan status\n",
        "loanapp_df['Loan_Status'].value_counts()"
      ],
      "metadata": {
        "id": "UuX58u_XeJJe"
      },
      "execution_count": null,
      "outputs": []
    },
    {
      "cell_type": "code",
      "source": [
        "loan_status_count = loanapp_df['Loan_Status'].value_counts()\n",
        "plt.figure(figsize=(8, 6))\n",
        "plt.pie(loan_status_count, labels=loan_status_count.index, autopct='%1.1f%%', startangle=140)\n",
        "plt.figlegend(['Loan approved', 'Loan rejected'], loc='center right')\n",
        "plt.title('Loan Status Distribution')\n",
        "plt.axis('equal')\n",
        "plt.show()"
      ],
      "metadata": {
        "id": "zNo5MY6AeTGv"
      },
      "execution_count": null,
      "outputs": []
    },
    {
      "cell_type": "code",
      "source": [
        "#Relationship between loan status and Property area\n",
        "plt.figure(figsize=(10, 6))\n",
        "sns.countplot(x='Property_Area', hue='Loan_Status', data=loanapp_df)\n",
        "plt.title('Loan Status by Property Area')\n",
        "plt.show()"
      ],
      "metadata": {
        "id": "_8Au5SZYe6Jq"
      },
      "execution_count": null,
      "outputs": []
    },
    {
      "cell_type": "code",
      "source": [
        "pd.crosstab(loanapp_df['Gender'],loanapp_df['Loan_Status'])"
      ],
      "metadata": {
        "id": "DSAL7aRbfJ3n"
      },
      "execution_count": null,
      "outputs": []
    },
    {
      "cell_type": "code",
      "source": [
        "pd.crosstab(loanapp_df['Married'],loanapp_df['Loan_Status'])"
      ],
      "metadata": {
        "id": "aeIbiHkZfVMx"
      },
      "execution_count": null,
      "outputs": []
    },
    {
      "cell_type": "code",
      "source": [
        "\n"
      ],
      "metadata": {
        "id": "-GWJE4YogHU8"
      },
      "execution_count": null,
      "outputs": []
    },
    {
      "cell_type": "code",
      "source": [
        "pd.crosstab(loanapp_df['Property_Area'],loanapp_df['Loan_Status'])"
      ],
      "metadata": {
        "id": "jbZDpx2_fefi"
      },
      "execution_count": null,
      "outputs": []
    },
    {
      "cell_type": "code",
      "source": [
        "pd.crosstab(loanapp_df['Property_Area'],loanapp_df['Loan_Status']).plot(kind='bar')\n",
        "plt.ylabel('Frequency')\n",
        "plt.title('Loan Status by Property Area')\n",
        "plt.xticks(rotation=0)\n"
      ],
      "metadata": {
        "id": "P4ZGLhqlfvb0"
      },
      "execution_count": null,
      "outputs": []
    },
    {
      "cell_type": "code",
      "source": [
        "# correlation heatmap\n",
        "plt.figure(figsize=(10, 6))\n",
        "sns.heatmap(loanapp_df.select_dtypes(include=['number']).corr(), annot=True, cmap='coolwarm')\n",
        "plt.title('Correlation Heatmap Matrix')\n",
        "plt.show()"
      ],
      "metadata": {
        "id": "_sVsZnFgTUnC"
      },
      "execution_count": null,
      "outputs": []
    },
    {
      "cell_type": "code",
      "source": [
        "from sklearn.preprocessing import LabelEncoder\n",
        "# convert string into numeric using\n",
        "# to identify the categerical columns\n",
        "\n",
        "cat_cols = loanapp_df.select_dtypes(include=['object']).columns\n",
        "\n",
        "#applying encoder\n",
        "le = LabelEncoder()\n",
        "for col in cat_cols:\n",
        "    loanapp_df[col] = le.fit_transform(loanapp_df[col])\n",
        "#Impute missing values in the Dataframe\n",
        "loanapp_df.fillna(loanapp_df.mean(), inplace=True)"
      ],
      "metadata": {
        "id": "AMBROPxlUUKT"
      },
      "execution_count": null,
      "outputs": []
    },
    {
      "cell_type": "code",
      "source": [
        "loanapp_df.head()"
      ],
      "metadata": {
        "id": "pCT7AlfZVZAe"
      },
      "execution_count": null,
      "outputs": []
    },
    {
      "cell_type": "code",
      "source": [
        "#Re calculating the correlation and plot the heatmap\n",
        "plt.figure(figsize=(10, 6))\n",
        "sns.heatmap(loanapp_df.corr(), annot=True, cmap='coolwarm')\n",
        "plt.title('Correlation Heatmap Matrix')\n",
        "plt.show()"
      ],
      "metadata": {
        "id": "xgQHw-gOVeI2"
      },
      "execution_count": null,
      "outputs": []
    },
    {
      "cell_type": "markdown",
      "source": [
        "Here we can see the correlation between **Loan amount vs applicant Income**\n",
        "\n",
        "and **Credit history vs Loan_status**  have positive correlation (0.57)\n",
        "\n",
        "\n",
        "and also we can see moderative positive correlation between Dependents vs Marriaged(0.33)\n",
        "\n"
      ],
      "metadata": {
        "id": "XYNL214QWUQQ"
      }
    },
    {
      "cell_type": "code",
      "source": [
        "#skewness\n",
        "skewness_loanapp_df = loanapp_df.skew()\n",
        "skewness_loanapp_df"
      ],
      "metadata": {
        "id": "kaXE_rdYeP4P"
      },
      "execution_count": null,
      "outputs": []
    },
    {
      "cell_type": "markdown",
      "source": [
        "## High Positive Skewness\n",
        "\n",
        "ApplicantIncome      6.539513\n",
        "\n",
        "CoapplicantIncome    7.491531\n",
        "\n",
        "LoanAmount           2.726601\n",
        "\n",
        "## Moderate Positive Skewness\n",
        "\n",
        "Dependents           1.015551\n",
        "\n",
        "Education            1.367622\n",
        "\n",
        "Self_Employed        2.159796\n",
        "\n",
        "## High negitive Skewness\n",
        "\n",
        "Loan_Amount_Term    -2.389680\n",
        "\n",
        "Credit_History      -2.021971\n"
      ],
      "metadata": {
        "id": "kV0Y4LS_gJ9z"
      }
    },
    {
      "cell_type": "code",
      "source": [
        "# applying log transermation to Positively skewed data\n",
        "loanapp_df['ApplicantIncome'] = np.log(loanapp_df['ApplicantIncome'] + 1)\n",
        "loanapp_df['CoapplicantIncome'] = np.log(loanapp_df['CoapplicantIncome'] +1)\n",
        "loanapp_df['LoanAmount'] = np.log(loanapp_df['LoanAmount'] +1)\n",
        "\n"
      ],
      "metadata": {
        "id": "OYnlvLCeVF-p"
      },
      "execution_count": null,
      "outputs": []
    },
    {
      "cell_type": "code",
      "source": [
        "#applying square root  transfermation to moderate\n",
        "loanapp_df['Dependents'] = np.sqrt(loanapp_df['Dependents'] +1)\n",
        "loanapp_df['Education'] = np.sqrt(loanapp_df['Education'] +1)\n",
        "loanapp_df['Self_Employed'] = np.sqrt(loanapp_df['Self_Employed'] +1)"
      ],
      "metadata": {
        "id": "DRxpN2BNYh9G"
      },
      "execution_count": null,
      "outputs": []
    },
    {
      "cell_type": "code",
      "source": [
        "loanapp_df.isna().sum()"
      ],
      "metadata": {
        "id": "thfc6s4fYuba"
      },
      "execution_count": null,
      "outputs": []
    },
    {
      "cell_type": "code",
      "source": [
        "# Modeling\n",
        "from sklearn.model_selection import train_test_split, GridSearchCV\n",
        "from sklearn.linear_model import LogisticRegression,RidgeClassifierCV,LassoCV\n",
        "from sklearn.metrics import accuracy_score, classification_report, confusion_matrix,f1_score,recall_score,precision_score\n",
        "\n",
        "\n",
        "#Feature selection\n",
        "X = loanapp_df.drop('Loan_Status', axis=1)\n",
        "y = loanapp_df['Loan_Status']"
      ],
      "metadata": {
        "id": "iSESoPbMi-0M"
      },
      "execution_count": null,
      "outputs": []
    },
    {
      "cell_type": "markdown",
      "source": [],
      "metadata": {
        "id": "EDFieuD4ZCHH"
      }
    },
    {
      "cell_type": "code",
      "source": [
        "#Split Feature and target(y)\n",
        "\n",
        "X_train,X_test,y_train,y_test = train_test_split(X,y,test_size=0.2,random_state=42)\n",
        "\n",
        "Ridge_model = RidgeClassifierCV()\n",
        "Ridge_model.fit(X_train,y_train)\n",
        "Ridge_model.score(X_train,y_train)\n"
      ],
      "metadata": {
        "id": "Qyn_AeXQj_Oe"
      },
      "execution_count": null,
      "outputs": []
    },
    {
      "cell_type": "code",
      "source": [
        "y_pred = Ridge_model.predict(X_test)\n",
        "print('Accuracy:',accuracy_score(y_test,y_pred))\n",
        "print('F1 Score:',f1_score(y_test,y_pred))\n",
        "print('Recall Score:',recall_score(y_test,y_pred))\n",
        "print('Precision Score:',precision_score(y_test,y_pred))\n",
        "\n"
      ],
      "metadata": {
        "id": "P5r-f2N-kTfo"
      },
      "execution_count": null,
      "outputs": []
    },
    {
      "cell_type": "code",
      "source": [
        "#Classifiers for fuel predections\n",
        "#from sklearn.linear_model import LogisticRegression\n",
        "from sklearn.svm import SVC\n",
        "from sklearn.ensemble import RandomForestClassifier\n",
        "from sklearn.neighbors import KNeighborsClassifier\n",
        "from sklearn.naive_bayes import GaussianNB\n",
        "from sklearn.tree import DecisionTreeClassifier\n",
        "from sklearn.ensemble import AdaBoostClassifier\n",
        "from sklearn.ensemble import GradientBoostingClassifier\n",
        "from sklearn.ensemble import BaggingClassifier"
      ],
      "metadata": {
        "id": "j38KaFe7QQZU"
      },
      "execution_count": null,
      "outputs": []
    },
    {
      "cell_type": "code",
      "source": [
        "classifiers = {\n",
        "          'svc':SVC(),\n",
        "          'rfc':RandomForestClassifier(),\n",
        "          'knc':KNeighborsClassifier(),\n",
        "          'gau':GaussianNB(),\n",
        "          'dtc' : DecisionTreeClassifier(),\n",
        "          'abc' : AdaBoostClassifier(),\n",
        "          'grd':GradientBoostingClassifier(),\n",
        "          'bagg':BaggingClassifier()\n",
        "}"
      ],
      "metadata": {
        "id": "pulrB6bZQVGk"
      },
      "execution_count": null,
      "outputs": []
    },
    {
      "cell_type": "code",
      "source": [
        "from sklearn.impute import SimpleImputer\n",
        "#train AND evalate classifiers for primary fuel predection\n",
        "imputer = SimpleImputer(strategy='mean')\n",
        "\n",
        "X_train = imputer.fit_transform(X_train)\n",
        "X_test = imputer.transform(X_test)\n",
        "\n",
        "for name, classifier in classifiers.items():\n",
        "  classifier.fit(X_train,y_train)\n",
        "  y_pred = classifier.predict(X_test)\n",
        "  accuracy = accuracy_score(y_test,y_pred)\n",
        "  print(f'{name} : {accuracy}')"
      ],
      "metadata": {
        "id": "JSeHaHG6QZ8-"
      },
      "execution_count": null,
      "outputs": []
    },
    {
      "cell_type": "markdown",
      "source": [
        "## Ad per the above models output performance of  GaussianNB(Gaussian Naive bayes)  has the highest accuracy (0.788) ,indicates it is the best model performing on this dataset\n",
        "\n",
        "svc : 0.6504065040650406\n",
        "rfc : 0.7723577235772358\n",
        "knc : 0.5853658536585366\n",
        "gau : 0.7886178861788617\n",
        "dtc : 0.7073170731707317\n",
        "abc : 0.7479674796747967\n",
        "grd : 0.7723577235772358\n",
        "bagg : 0.7317073170731707\n",
        "\n",
        "\n",
        "## Random forest classifier and Adaboost Classifier have a good accuracy (.772) and(.74 )"
      ],
      "metadata": {
        "id": "y87CxVyMZjdf"
      }
    },
    {
      "cell_type": "markdown",
      "source": [
        "**Save the model **"
      ],
      "metadata": {
        "id": "p_lPwOa6avr2"
      }
    },
    {
      "cell_type": "code",
      "source": [
        "GaussianNB_model = GaussianNB()\n",
        "GaussianNB_model.fit(X_train,y_train)\n",
        "y_pred = GaussianNB_model.predict(X_test)\n",
        "\n",
        "Accuracy = accuracy_score(y_test,y_pred)\n",
        "print(f'Accuracy : {Accuracy}')"
      ],
      "metadata": {
        "id": "Lr1f1bO7cLly"
      },
      "execution_count": null,
      "outputs": []
    },
    {
      "cell_type": "code",
      "source": [
        "import joblib\n",
        "joblib.dump(GaussianNB_model,'GaussianNB_model.pkl')"
      ],
      "metadata": {
        "id": "Wrp-2q_rayiV"
      },
      "execution_count": null,
      "outputs": []
    }
  ]
}